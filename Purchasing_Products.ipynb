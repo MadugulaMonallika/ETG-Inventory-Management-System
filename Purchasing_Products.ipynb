{
  "nbformat": 4,
  "nbformat_minor": 0,
  "metadata": {
    "colab": {
      "name": "Purchasing Products.ipynb",
      "provenance": []
    },
    "kernelspec": {
      "display_name": "Python 3",
      "name": "python3"
    },
    "language_info": {
      "name": "python"
    }
  },
  "cells": [
    {
      "cell_type": "code",
      "metadata": {
        "id": "YdHzg6uFatt7"
      },
      "source": [
        "import json\n",
        "\n",
        "fd=open(\"record.json\",'r')\n",
        "r=fd.read()\n",
        "fd.close()\n",
        "\n",
        "records=json.loads(r)"
      ],
      "execution_count": 49,
      "outputs": []
    },
    {
      "cell_type": "code",
      "metadata": {
        "colab": {
          "base_uri": "https://localhost:8080/"
        },
        "id": "0iNvMWKcc5nV",
        "outputId": "0b103e56-1bbb-4b11-aa01-b0171ca6dc32"
      },
      "source": [
        "records"
      ],
      "execution_count": 50,
      "outputs": [
        {
          "output_type": "execute_result",
          "data": {
            "text/plain": [
              "{'1001': {'category': 'food',\n",
              "  'name': 'perk',\n",
              "  'price': 10,\n",
              "  'quantity': 100,\n",
              "  'weight': 13},\n",
              " '1002': {'category': 'food',\n",
              "  'name': 'lays',\n",
              "  'price': 10,\n",
              "  'quantity': 50,\n",
              "  'weight': 167},\n",
              " '1003': {'category': 'food',\n",
              "  'name': 'ice cream',\n",
              "  'price': 200,\n",
              "  'quantity': 75,\n",
              "  'weight': 250},\n",
              " '1004': {'category': 'food',\n",
              "  'name': 'cup cake',\n",
              "  'price': 20,\n",
              "  'quantity': 80,\n",
              "  'weight': 30},\n",
              " '1005': {'category': 'food',\n",
              "  'name': 'donuts',\n",
              "  'price': 40,\n",
              "  'quantity': 20,\n",
              "  'weight': 50},\n",
              " '1006': {'category': 'food',\n",
              "  'name': 'coke',\n",
              "  'price': 50,\n",
              "  'quantity': 30,\n",
              "  'weight': 384},\n",
              " '1007': {'category': 'food',\n",
              "  'name': 'doritos',\n",
              "  'price': 30,\n",
              "  'quantity': 85,\n",
              "  'weight': 150},\n",
              " '1008': {'category': 'food',\n",
              "  'name': 'kurkure',\n",
              "  'price': 20,\n",
              "  'quantity': 97,\n",
              "  'weight': 130},\n",
              " '1009': {'category': 'food',\n",
              "  'name': 'snickers',\n",
              "  'price': 30,\n",
              "  'quantity': 45,\n",
              "  'weight': 200},\n",
              " '1010': {'category': 'food',\n",
              "  'name': 'hippo',\n",
              "  'price': 10,\n",
              "  'quantity': 55,\n",
              "  'weight': 125},\n",
              " '1011': {'category': 'food',\n",
              "  'name': 'pringles',\n",
              "  'price': 100,\n",
              "  'quantity': 40,\n",
              "  'weight': 300},\n",
              " '1012': {'category': 'food',\n",
              "  'name': 'kisses',\n",
              "  'price': 125,\n",
              "  'quantity': 80,\n",
              "  'weight': 250},\n",
              " '1013': {'category': 'food',\n",
              "  'name': 'kitkat',\n",
              "  'price': 15,\n",
              "  'quantity': 70,\n",
              "  'weight': 15},\n",
              " '1014': {'category': 'food',\n",
              "  'name': 'sprite',\n",
              "  'price': 120,\n",
              "  'quantity': 40,\n",
              "  'weight': 500},\n",
              " '1015': {'category': 'food',\n",
              "  'name': 'mountdew',\n",
              "  'price': 45,\n",
              "  'quantity': 20,\n",
              "  'weight': 130},\n",
              " '1016': {'category': 'beauty',\n",
              "  'name': 'vaseline',\n",
              "  'price': 135,\n",
              "  'quantity': 40,\n",
              "  'weight': 125},\n",
              " '1017': {'category': 'beauty',\n",
              "  'name': 'nivea',\n",
              "  'price': 120,\n",
              "  'quantity': 36,\n",
              "  'weight': 125},\n",
              " '1018': {'category': 'beauty',\n",
              "  'name': 'body shop',\n",
              "  'price': 600,\n",
              "  'quantity': 15,\n",
              "  'weight': 250},\n",
              " '1019': {'category': 'beauty',\n",
              "  'name': 'lip balm',\n",
              "  'price': 120,\n",
              "  'quantity': 15,\n",
              "  'weight': 20},\n",
              " '1020': {'category': 'beauty',\n",
              "  'name': 'hair dye',\n",
              "  'price': 45,\n",
              "  'quantity': 95,\n",
              "  'weight': 30},\n",
              " '1021': {'category': 'beauty',\n",
              "  'name': 'hair oil',\n",
              "  'price': 90,\n",
              "  'quantity': 37,\n",
              "  'weight': 120},\n",
              " '1022': {'category': 'beauty',\n",
              "  'name': 'aleo gel',\n",
              "  'price': 200,\n",
              "  'quantity': 15,\n",
              "  'weight': 230},\n",
              " '1023': {'category': 'beauty',\n",
              "  'name': 'deodrant',\n",
              "  'price': 250,\n",
              "  'quantity': 40,\n",
              "  'weight': 150},\n",
              " '1024': {'category': 'beauty',\n",
              "  'name': 'dove soap',\n",
              "  'price': 300,\n",
              "  'quantity': 75,\n",
              "  'weight': 200},\n",
              " '1025': {'category': 'beauty',\n",
              "  'name': 'lux soap',\n",
              "  'price': 190,\n",
              "  'quantity': 47,\n",
              "  'weight': 200},\n",
              " '1026': {'category': 'beauty',\n",
              "  'name': 'body mist',\n",
              "  'price': 175,\n",
              "  'quantity': 29,\n",
              "  'weight': 75},\n",
              " '1027': {'category': 'beauty',\n",
              "  'name': 'shampoo',\n",
              "  'price': 180,\n",
              "  'quantity': 64,\n",
              "  'weight': 275},\n",
              " '1028': {'category': 'beauty',\n",
              "  'name': 'face toner',\n",
              "  'price': 175,\n",
              "  'quantity': 39,\n",
              "  'weight': 100},\n",
              " '1029': {'category': 'beauty',\n",
              "  'name': 'face serum',\n",
              "  'price': 175,\n",
              "  'quantity': 25,\n",
              "  'weight': 155},\n",
              " '1030': {'category': 'beauty',\n",
              "  'name': 'hair serum',\n",
              "  'price': 450,\n",
              "  'quantity': 29,\n",
              "  'weight': 145},\n",
              " '1031': {'category': 'beauty',\n",
              "  'name': 'face mask',\n",
              "  'price': 200,\n",
              "  'quantity': 50,\n",
              "  'weight': 12},\n",
              " '1032': {'category': 'beauty',\n",
              "  'name': 'mascara',\n",
              "  'price': 400,\n",
              "  'quantity': 30,\n",
              "  'weight': 13}}"
            ]
          },
          "metadata": {},
          "execution_count": 50
        }
      ]
    },
    {
      "cell_type": "markdown",
      "metadata": {
        "id": "Zt0pr05xSNpV"
      },
      "source": [
        "Purchasing from inventory"
      ]
    },
    {
      "cell_type": "code",
      "metadata": {
        "colab": {
          "base_uri": "https://localhost:8080/"
        },
        "id": "xXYyQV72eh8s",
        "outputId": "c60f0583-c125-40e4-d349-e28976981e8d"
      },
      "source": [
        "product_id=input(\"enter product id to be purchased: \")\n",
        "product_quantity=int(input(\"enter quantity of product to be prchased: \"))\n",
        "\n",
        "if (records[product_id]['quantity'] >= product_quantity):\n",
        "  print('************************************************************************')\n",
        "  print(\"category: \",records[product_id]['category'])\n",
        "  print(\"name: \",records[product_id]['name'])\n",
        "  billing_amount=records[product_id]['price']*product_quantity\n",
        "  print(\"Billing Amount: \",billing_amount)\n",
        "  b=records[product_id]['quantity']-product_quantity\n",
        "  records[product_id]['quantity']=b\n",
        "  print('////////////////////////////////////////////////////////////////////////')\n",
        "else:\n",
        "  print(\"low stock or out of stock\")\n",
        "\n",
        "js=json.dumps(records)\n",
        "\n",
        "fd=open(\"records.json\",'w')\n",
        "fd.write(js)\n",
        "fd.close()\n"
      ],
      "execution_count": 51,
      "outputs": [
        {
          "output_type": "stream",
          "name": "stdout",
          "text": [
            "enter product id to be purchased: 1020\n",
            "enter quantity of product to be prchased: 5\n",
            "************************************************************************\n",
            "category:  beauty\n",
            "name:  hair dye\n",
            "Billing Amount:  225\n",
            "////////////////////////////////////////////////////////////////////////\n"
          ]
        }
      ]
    },
    {
      "cell_type": "markdown",
      "metadata": {
        "id": "2rr0NoStFUky"
      },
      "source": [
        "Sales"
      ]
    },
    {
      "cell_type": "code",
      "metadata": {
        "id": "edNKFkgOFc7v"
      },
      "source": [
        "uid=3000"
      ],
      "execution_count": null,
      "outputs": []
    },
    {
      "cell_type": "code",
      "metadata": {
        "colab": {
          "base_uri": "https://localhost:8080/"
        },
        "id": "AD2oSUfKFpcH",
        "outputId": "e3a6f871-40fd-441a-d1d6-6e9f829a515c"
      },
      "source": [
        "{'id':product_id,'qn':product_quantity,'amount':billing_amount}"
      ],
      "execution_count": 52,
      "outputs": [
        {
          "output_type": "execute_result",
          "data": {
            "text/plain": [
              "{'amount': 225, 'id': '1020', 'qn': 5}"
            ]
          },
          "metadata": {},
          "execution_count": 52
        }
      ]
    },
    {
      "cell_type": "code",
      "metadata": {
        "id": "oq121DhvFpou"
      },
      "source": [
        "sales={}\n",
        "uid=uid+1\n",
        "sales[uid]={'id':product_id,'qn':product_quantity,'amount':billing_amount}"
      ],
      "execution_count": 53,
      "outputs": []
    },
    {
      "cell_type": "code",
      "metadata": {
        "id": "lSwOE90rFpsI"
      },
      "source": [
        "sale=json.dumps(sales)\n",
        "fd=open('sale.json','a')\n",
        "fd.write(sale)\n",
        "fd.close()"
      ],
      "execution_count": 54,
      "outputs": []
    },
    {
      "cell_type": "code",
      "metadata": {
        "colab": {
          "base_uri": "https://localhost:8080/"
        },
        "id": "xFvqI-d0FpwC",
        "outputId": "3e93add4-d8ee-4f9d-db99-abefbaa86c94"
      },
      "source": [
        "sales"
      ],
      "execution_count": 55,
      "outputs": [
        {
          "output_type": "execute_result",
          "data": {
            "text/plain": [
              "{3006: {'amount': 225, 'id': '1020', 'qn': 5}}"
            ]
          },
          "metadata": {},
          "execution_count": 55
        }
      ]
    },
    {
      "cell_type": "code",
      "metadata": {
        "id": "bW2ifDv6Fpz7"
      },
      "source": [
        ""
      ],
      "execution_count": null,
      "outputs": []
    },
    {
      "cell_type": "markdown",
      "metadata": {
        "id": "pd2HPbddWWmE"
      },
      "source": [
        "Updating stock in inventory"
      ]
    },
    {
      "cell_type": "code",
      "metadata": {
        "colab": {
          "base_uri": "https://localhost:8080/"
        },
        "id": "jZD4AcweRw0a",
        "outputId": "da3e7749-ac4c-4f20-d656-68b601340d0b"
      },
      "source": [
        "product_id=input(\"enter product id to be updated: \")\n",
        "product_quantity=int(input(\"enter quantity of product to be updated: \"))\n",
        "\n",
        "a=records[product_id]['quantity']+product_quantity\n",
        "records[product_id]['quantity']=a\n",
        "print('************************************************************************')\n",
        "print(\"updated product details\")\n",
        "print(\"category: \",records[product_id]['category'])\n",
        "print(\"name: \",records[product_id]['name'])\n",
        "print(\"Quantity: \",records[product_id]['quantity'])\n",
        "print('////////////////////////////////////////////////////////////////////////')\n",
        "  \n",
        "\n",
        "  \n",
        "\n",
        "\n",
        "\n",
        "  "
      ],
      "execution_count": 56,
      "outputs": [
        {
          "output_type": "stream",
          "name": "stdout",
          "text": [
            "enter product id to be updated: 1007\n",
            "enter quantity of product to be updated: 10\n",
            "************************************************************************\n",
            "updated product details\n",
            "category:  food\n",
            "name:  doritos\n",
            "Quantity:  95\n",
            "////////////////////////////////////////////////////////////////////////\n"
          ]
        }
      ]
    },
    {
      "cell_type": "code",
      "metadata": {
        "id": "ieZHKY_UotNc"
      },
      "source": [
        "js=json.dumps(records)\n",
        "\n",
        "fd=open(\"records.json\",'w')\n",
        "fd.write(js)\n",
        "fd.close()"
      ],
      "execution_count": 57,
      "outputs": []
    },
    {
      "cell_type": "code",
      "metadata": {
        "id": "kOlvzjLTpSEx",
        "colab": {
          "base_uri": "https://localhost:8080/"
        },
        "outputId": "bca0da76-8b34-4b46-a1db-df33bdd9bbc2"
      },
      "source": [
        "records"
      ],
      "execution_count": 58,
      "outputs": [
        {
          "output_type": "execute_result",
          "data": {
            "text/plain": [
              "{'1001': {'category': 'food',\n",
              "  'name': 'perk',\n",
              "  'price': 10,\n",
              "  'quantity': 100,\n",
              "  'weight': 13},\n",
              " '1002': {'category': 'food',\n",
              "  'name': 'lays',\n",
              "  'price': 10,\n",
              "  'quantity': 50,\n",
              "  'weight': 167},\n",
              " '1003': {'category': 'food',\n",
              "  'name': 'ice cream',\n",
              "  'price': 200,\n",
              "  'quantity': 75,\n",
              "  'weight': 250},\n",
              " '1004': {'category': 'food',\n",
              "  'name': 'cup cake',\n",
              "  'price': 20,\n",
              "  'quantity': 80,\n",
              "  'weight': 30},\n",
              " '1005': {'category': 'food',\n",
              "  'name': 'donuts',\n",
              "  'price': 40,\n",
              "  'quantity': 20,\n",
              "  'weight': 50},\n",
              " '1006': {'category': 'food',\n",
              "  'name': 'coke',\n",
              "  'price': 50,\n",
              "  'quantity': 30,\n",
              "  'weight': 384},\n",
              " '1007': {'category': 'food',\n",
              "  'name': 'doritos',\n",
              "  'price': 30,\n",
              "  'quantity': 95,\n",
              "  'weight': 150},\n",
              " '1008': {'category': 'food',\n",
              "  'name': 'kurkure',\n",
              "  'price': 20,\n",
              "  'quantity': 97,\n",
              "  'weight': 130},\n",
              " '1009': {'category': 'food',\n",
              "  'name': 'snickers',\n",
              "  'price': 30,\n",
              "  'quantity': 45,\n",
              "  'weight': 200},\n",
              " '1010': {'category': 'food',\n",
              "  'name': 'hippo',\n",
              "  'price': 10,\n",
              "  'quantity': 55,\n",
              "  'weight': 125},\n",
              " '1011': {'category': 'food',\n",
              "  'name': 'pringles',\n",
              "  'price': 100,\n",
              "  'quantity': 40,\n",
              "  'weight': 300},\n",
              " '1012': {'category': 'food',\n",
              "  'name': 'kisses',\n",
              "  'price': 125,\n",
              "  'quantity': 80,\n",
              "  'weight': 250},\n",
              " '1013': {'category': 'food',\n",
              "  'name': 'kitkat',\n",
              "  'price': 15,\n",
              "  'quantity': 70,\n",
              "  'weight': 15},\n",
              " '1014': {'category': 'food',\n",
              "  'name': 'sprite',\n",
              "  'price': 120,\n",
              "  'quantity': 40,\n",
              "  'weight': 500},\n",
              " '1015': {'category': 'food',\n",
              "  'name': 'mountdew',\n",
              "  'price': 45,\n",
              "  'quantity': 20,\n",
              "  'weight': 130},\n",
              " '1016': {'category': 'beauty',\n",
              "  'name': 'vaseline',\n",
              "  'price': 135,\n",
              "  'quantity': 40,\n",
              "  'weight': 125},\n",
              " '1017': {'category': 'beauty',\n",
              "  'name': 'nivea',\n",
              "  'price': 120,\n",
              "  'quantity': 36,\n",
              "  'weight': 125},\n",
              " '1018': {'category': 'beauty',\n",
              "  'name': 'body shop',\n",
              "  'price': 600,\n",
              "  'quantity': 15,\n",
              "  'weight': 250},\n",
              " '1019': {'category': 'beauty',\n",
              "  'name': 'lip balm',\n",
              "  'price': 120,\n",
              "  'quantity': 15,\n",
              "  'weight': 20},\n",
              " '1020': {'category': 'beauty',\n",
              "  'name': 'hair dye',\n",
              "  'price': 45,\n",
              "  'quantity': 90,\n",
              "  'weight': 30},\n",
              " '1021': {'category': 'beauty',\n",
              "  'name': 'hair oil',\n",
              "  'price': 90,\n",
              "  'quantity': 37,\n",
              "  'weight': 120},\n",
              " '1022': {'category': 'beauty',\n",
              "  'name': 'aleo gel',\n",
              "  'price': 200,\n",
              "  'quantity': 15,\n",
              "  'weight': 230},\n",
              " '1023': {'category': 'beauty',\n",
              "  'name': 'deodrant',\n",
              "  'price': 250,\n",
              "  'quantity': 40,\n",
              "  'weight': 150},\n",
              " '1024': {'category': 'beauty',\n",
              "  'name': 'dove soap',\n",
              "  'price': 300,\n",
              "  'quantity': 75,\n",
              "  'weight': 200},\n",
              " '1025': {'category': 'beauty',\n",
              "  'name': 'lux soap',\n",
              "  'price': 190,\n",
              "  'quantity': 47,\n",
              "  'weight': 200},\n",
              " '1026': {'category': 'beauty',\n",
              "  'name': 'body mist',\n",
              "  'price': 175,\n",
              "  'quantity': 29,\n",
              "  'weight': 75},\n",
              " '1027': {'category': 'beauty',\n",
              "  'name': 'shampoo',\n",
              "  'price': 180,\n",
              "  'quantity': 64,\n",
              "  'weight': 275},\n",
              " '1028': {'category': 'beauty',\n",
              "  'name': 'face toner',\n",
              "  'price': 175,\n",
              "  'quantity': 39,\n",
              "  'weight': 100},\n",
              " '1029': {'category': 'beauty',\n",
              "  'name': 'face serum',\n",
              "  'price': 175,\n",
              "  'quantity': 25,\n",
              "  'weight': 155},\n",
              " '1030': {'category': 'beauty',\n",
              "  'name': 'hair serum',\n",
              "  'price': 450,\n",
              "  'quantity': 29,\n",
              "  'weight': 145},\n",
              " '1031': {'category': 'beauty',\n",
              "  'name': 'face mask',\n",
              "  'price': 200,\n",
              "  'quantity': 50,\n",
              "  'weight': 12},\n",
              " '1032': {'category': 'beauty',\n",
              "  'name': 'mascara',\n",
              "  'price': 400,\n",
              "  'quantity': 30,\n",
              "  'weight': 13}}"
            ]
          },
          "metadata": {},
          "execution_count": 58
        }
      ]
    },
    {
      "cell_type": "code",
      "metadata": {
        "id": "ADn1VILlqj7T"
      },
      "source": [
        ""
      ],
      "execution_count": null,
      "outputs": []
    }
  ]
}