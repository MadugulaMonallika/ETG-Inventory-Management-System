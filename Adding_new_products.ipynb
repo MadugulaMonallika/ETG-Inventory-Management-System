{
  "nbformat": 4,
  "nbformat_minor": 0,
  "metadata": {
    "colab": {
      "name": "Adding new products.ipynb",
      "provenance": []
    },
    "kernelspec": {
      "name": "python3",
      "display_name": "Python 3"
    },
    "language_info": {
      "name": "python"
    }
  },
  "cells": [
    {
      "cell_type": "code",
      "metadata": {
        "id": "IiUN6KqhV2HA"
      },
      "source": [
        "import json"
      ],
      "execution_count": 9,
      "outputs": []
    },
    {
      "cell_type": "markdown",
      "metadata": {
        "id": "Td8bdG-FTAEh"
      },
      "source": [
        "reading the json file"
      ]
    },
    {
      "cell_type": "code",
      "metadata": {
        "id": "55cPuY1JV6aH"
      },
      "source": [
        "fd=open(\"record.json\",'r')\n",
        "r=fd.read()\n",
        "fd.close()\n",
        "\n",
        "records=json.loads(r)"
      ],
      "execution_count": 10,
      "outputs": []
    },
    {
      "cell_type": "markdown",
      "metadata": {
        "id": "y_LyinfRS-o1"
      },
      "source": [
        "printings all the contents in jason file"
      ]
    },
    {
      "cell_type": "code",
      "metadata": {
        "colab": {
          "base_uri": "https://localhost:8080/"
        },
        "id": "Y1s-nFflWGMw",
        "outputId": "2b3b79be-f321-48d5-d031-607bd4da3448"
      },
      "source": [
        "records"
      ],
      "execution_count": 11,
      "outputs": [
        {
          "output_type": "execute_result",
          "data": {
            "text/plain": [
              "{'1001': {'category': 'food',\n",
              "  'name': 'perk',\n",
              "  'price': 10,\n",
              "  'quantity': 100,\n",
              "  'weight': 13},\n",
              " '1002': {'category': 'food',\n",
              "  'name': 'lays',\n",
              "  'price': 10,\n",
              "  'quantity': 50,\n",
              "  'weight': 167},\n",
              " '1003': {'category': 'food',\n",
              "  'name': 'ice cream',\n",
              "  'price': 200,\n",
              "  'quantity': 75,\n",
              "  'weight': 250},\n",
              " '1004': {'category': 'food',\n",
              "  'name': 'cup cake',\n",
              "  'price': 20,\n",
              "  'quantity': 80,\n",
              "  'weight': 30},\n",
              " '1005': {'category': 'food',\n",
              "  'name': 'donuts',\n",
              "  'price': 40,\n",
              "  'quantity': 20,\n",
              "  'weight': 50},\n",
              " '1006': {'category': 'food',\n",
              "  'name': 'coke',\n",
              "  'price': 50,\n",
              "  'quantity': 30,\n",
              "  'weight': 384},\n",
              " '1007': {'category': 'food',\n",
              "  'name': 'doritos',\n",
              "  'price': 30,\n",
              "  'quantity': 85,\n",
              "  'weight': 150},\n",
              " '1008': {'category': 'food',\n",
              "  'name': 'kurkure',\n",
              "  'price': 20,\n",
              "  'quantity': 97,\n",
              "  'weight': 130},\n",
              " '1009': {'category': 'food',\n",
              "  'name': 'snickers',\n",
              "  'price': 30,\n",
              "  'quantity': 45,\n",
              "  'weight': 200},\n",
              " '1010': {'category': 'food',\n",
              "  'name': 'hippo',\n",
              "  'price': 10,\n",
              "  'quantity': 55,\n",
              "  'weight': 125},\n",
              " '1011': {'category': 'food',\n",
              "  'name': 'pringles',\n",
              "  'price': 100,\n",
              "  'quantity': 40,\n",
              "  'weight': 300},\n",
              " '1012': {'category': 'food',\n",
              "  'name': 'kisses',\n",
              "  'price': 125,\n",
              "  'quantity': 80,\n",
              "  'weight': 250},\n",
              " '1013': {'category': 'food',\n",
              "  'name': 'kitkat',\n",
              "  'price': 15,\n",
              "  'quantity': 70,\n",
              "  'weight': 15},\n",
              " '1014': {'category': 'food',\n",
              "  'name': 'sprite',\n",
              "  'price': 120,\n",
              "  'quantity': 40,\n",
              "  'weight': 500},\n",
              " '1015': {'category': 'food',\n",
              "  'name': 'mountdew',\n",
              "  'price': 45,\n",
              "  'quantity': 20,\n",
              "  'weight': 130},\n",
              " '1016': {'category': 'beauty',\n",
              "  'name': 'vaseline',\n",
              "  'price': 135,\n",
              "  'quantity': 40,\n",
              "  'weight': 125},\n",
              " '1017': {'category': 'beauty',\n",
              "  'name': 'nivea',\n",
              "  'price': 120,\n",
              "  'quantity': 36,\n",
              "  'weight': 125},\n",
              " '1018': {'category': 'beauty',\n",
              "  'name': 'body shop',\n",
              "  'price': 600,\n",
              "  'quantity': 15,\n",
              "  'weight': 250},\n",
              " '1019': {'category': 'beauty',\n",
              "  'name': 'lip balm',\n",
              "  'price': 120,\n",
              "  'quantity': 15,\n",
              "  'weight': 20},\n",
              " '1020': {'category': 'beauty',\n",
              "  'name': 'hair dye',\n",
              "  'price': 45,\n",
              "  'quantity': 95,\n",
              "  'weight': 30},\n",
              " '1021': {'category': 'beauty',\n",
              "  'name': 'hair oil',\n",
              "  'price': 90,\n",
              "  'quantity': 37,\n",
              "  'weight': 120},\n",
              " '1022': {'category': 'beauty',\n",
              "  'name': 'aleo gel',\n",
              "  'price': 200,\n",
              "  'quantity': 15,\n",
              "  'weight': 230},\n",
              " '1023': {'category': 'beauty',\n",
              "  'name': 'deodrant',\n",
              "  'price': 250,\n",
              "  'quantity': 40,\n",
              "  'weight': 150},\n",
              " '1024': {'category': 'beauty',\n",
              "  'name': 'dove soap',\n",
              "  'price': 300,\n",
              "  'quantity': 75,\n",
              "  'weight': 200},\n",
              " '1025': {'category': 'beauty',\n",
              "  'name': 'lux soap',\n",
              "  'price': 190,\n",
              "  'quantity': 47,\n",
              "  'weight': 200},\n",
              " '1026': {'category': 'beauty',\n",
              "  'name': 'body mist',\n",
              "  'price': 175,\n",
              "  'quantity': 29,\n",
              "  'weight': 75},\n",
              " '1027': {'category': 'beauty',\n",
              "  'name': 'shampoo',\n",
              "  'price': 180,\n",
              "  'quantity': 64,\n",
              "  'weight': 275},\n",
              " '1028': {'category': 'beauty',\n",
              "  'name': 'face toner',\n",
              "  'price': 175,\n",
              "  'quantity': 39,\n",
              "  'weight': 100},\n",
              " '1029': {'category': 'beauty',\n",
              "  'name': 'face serum',\n",
              "  'price': 175,\n",
              "  'quantity': 25,\n",
              "  'weight': 155},\n",
              " '1030': {'category': 'beauty',\n",
              "  'name': 'hair serum',\n",
              "  'price': 450,\n",
              "  'quantity': 29,\n",
              "  'weight': 145},\n",
              " '1031': {'category': 'beauty',\n",
              "  'name': 'face mask',\n",
              "  'price': 200,\n",
              "  'quantity': 50,\n",
              "  'weight': 12}}"
            ]
          },
          "metadata": {},
          "execution_count": 11
        }
      ]
    },
    {
      "cell_type": "markdown",
      "metadata": {
        "id": "JP0QwMmsTPDP"
      },
      "source": [
        "Adding a new item or product to the inventory"
      ]
    },
    {
      "cell_type": "code",
      "metadata": {
        "id": "WVm7tLV7WHP0",
        "colab": {
          "base_uri": "https://localhost:8080/"
        },
        "outputId": "14fabd2b-35f4-421c-8b4c-9b76e69fd6cb"
      },
      "source": [
        "  id=input(\"enter product id: \")\n",
        "  category=input(\"enter category of the product: \")\n",
        "  name=input(\"enter name of the product: \")\n",
        "  price=int(input(\"enter price of the product: \"))\n",
        "  quantity=int(input(\"enter quantity of the product: \"))\n",
        "  weight=int(input(\"enter weight of the product in grams: \"))\n",
        "  records[id]={'category':category,'name':name,'price':price,'quantity':quantity,'weight':weight}\n",
        "  js=json.dumps(records)"
      ],
      "execution_count": 12,
      "outputs": [
        {
          "name": "stdout",
          "output_type": "stream",
          "text": [
            "enter product id: 1032\n",
            "enter category of the product: beauty\n",
            "enter name of the product: mascara\n",
            "enter price of the product: 400\n",
            "enter quantity of the product: 30\n",
            "enter weight of the product in grams: 13\n"
          ]
        }
      ]
    },
    {
      "cell_type": "code",
      "metadata": {
        "id": "2JhOMwkTWO5Q"
      },
      "source": [
        "fd=open(\"record.json\",'w')\n",
        "fd.write(js)\n",
        "fd.close()"
      ],
      "execution_count": 13,
      "outputs": []
    },
    {
      "cell_type": "code",
      "metadata": {
        "colab": {
          "base_uri": "https://localhost:8080/"
        },
        "id": "QcmHf85naGdn",
        "outputId": "3ca4cb9a-a364-41e2-f621-3376578806cc"
      },
      "source": [
        "records"
      ],
      "execution_count": 14,
      "outputs": [
        {
          "output_type": "execute_result",
          "data": {
            "text/plain": [
              "{'1001': {'category': 'food',\n",
              "  'name': 'perk',\n",
              "  'price': 10,\n",
              "  'quantity': 100,\n",
              "  'weight': 13},\n",
              " '1002': {'category': 'food',\n",
              "  'name': 'lays',\n",
              "  'price': 10,\n",
              "  'quantity': 50,\n",
              "  'weight': 167},\n",
              " '1003': {'category': 'food',\n",
              "  'name': 'ice cream',\n",
              "  'price': 200,\n",
              "  'quantity': 75,\n",
              "  'weight': 250},\n",
              " '1004': {'category': 'food',\n",
              "  'name': 'cup cake',\n",
              "  'price': 20,\n",
              "  'quantity': 80,\n",
              "  'weight': 30},\n",
              " '1005': {'category': 'food',\n",
              "  'name': 'donuts',\n",
              "  'price': 40,\n",
              "  'quantity': 20,\n",
              "  'weight': 50},\n",
              " '1006': {'category': 'food',\n",
              "  'name': 'coke',\n",
              "  'price': 50,\n",
              "  'quantity': 30,\n",
              "  'weight': 384},\n",
              " '1007': {'category': 'food',\n",
              "  'name': 'doritos',\n",
              "  'price': 30,\n",
              "  'quantity': 85,\n",
              "  'weight': 150},\n",
              " '1008': {'category': 'food',\n",
              "  'name': 'kurkure',\n",
              "  'price': 20,\n",
              "  'quantity': 97,\n",
              "  'weight': 130},\n",
              " '1009': {'category': 'food',\n",
              "  'name': 'snickers',\n",
              "  'price': 30,\n",
              "  'quantity': 45,\n",
              "  'weight': 200},\n",
              " '1010': {'category': 'food',\n",
              "  'name': 'hippo',\n",
              "  'price': 10,\n",
              "  'quantity': 55,\n",
              "  'weight': 125},\n",
              " '1011': {'category': 'food',\n",
              "  'name': 'pringles',\n",
              "  'price': 100,\n",
              "  'quantity': 40,\n",
              "  'weight': 300},\n",
              " '1012': {'category': 'food',\n",
              "  'name': 'kisses',\n",
              "  'price': 125,\n",
              "  'quantity': 80,\n",
              "  'weight': 250},\n",
              " '1013': {'category': 'food',\n",
              "  'name': 'kitkat',\n",
              "  'price': 15,\n",
              "  'quantity': 70,\n",
              "  'weight': 15},\n",
              " '1014': {'category': 'food',\n",
              "  'name': 'sprite',\n",
              "  'price': 120,\n",
              "  'quantity': 40,\n",
              "  'weight': 500},\n",
              " '1015': {'category': 'food',\n",
              "  'name': 'mountdew',\n",
              "  'price': 45,\n",
              "  'quantity': 20,\n",
              "  'weight': 130},\n",
              " '1016': {'category': 'beauty',\n",
              "  'name': 'vaseline',\n",
              "  'price': 135,\n",
              "  'quantity': 40,\n",
              "  'weight': 125},\n",
              " '1017': {'category': 'beauty',\n",
              "  'name': 'nivea',\n",
              "  'price': 120,\n",
              "  'quantity': 36,\n",
              "  'weight': 125},\n",
              " '1018': {'category': 'beauty',\n",
              "  'name': 'body shop',\n",
              "  'price': 600,\n",
              "  'quantity': 15,\n",
              "  'weight': 250},\n",
              " '1019': {'category': 'beauty',\n",
              "  'name': 'lip balm',\n",
              "  'price': 120,\n",
              "  'quantity': 15,\n",
              "  'weight': 20},\n",
              " '1020': {'category': 'beauty',\n",
              "  'name': 'hair dye',\n",
              "  'price': 45,\n",
              "  'quantity': 95,\n",
              "  'weight': 30},\n",
              " '1021': {'category': 'beauty',\n",
              "  'name': 'hair oil',\n",
              "  'price': 90,\n",
              "  'quantity': 37,\n",
              "  'weight': 120},\n",
              " '1022': {'category': 'beauty',\n",
              "  'name': 'aleo gel',\n",
              "  'price': 200,\n",
              "  'quantity': 15,\n",
              "  'weight': 230},\n",
              " '1023': {'category': 'beauty',\n",
              "  'name': 'deodrant',\n",
              "  'price': 250,\n",
              "  'quantity': 40,\n",
              "  'weight': 150},\n",
              " '1024': {'category': 'beauty',\n",
              "  'name': 'dove soap',\n",
              "  'price': 300,\n",
              "  'quantity': 75,\n",
              "  'weight': 200},\n",
              " '1025': {'category': 'beauty',\n",
              "  'name': 'lux soap',\n",
              "  'price': 190,\n",
              "  'quantity': 47,\n",
              "  'weight': 200},\n",
              " '1026': {'category': 'beauty',\n",
              "  'name': 'body mist',\n",
              "  'price': 175,\n",
              "  'quantity': 29,\n",
              "  'weight': 75},\n",
              " '1027': {'category': 'beauty',\n",
              "  'name': 'shampoo',\n",
              "  'price': 180,\n",
              "  'quantity': 64,\n",
              "  'weight': 275},\n",
              " '1028': {'category': 'beauty',\n",
              "  'name': 'face toner',\n",
              "  'price': 175,\n",
              "  'quantity': 39,\n",
              "  'weight': 100},\n",
              " '1029': {'category': 'beauty',\n",
              "  'name': 'face serum',\n",
              "  'price': 175,\n",
              "  'quantity': 25,\n",
              "  'weight': 155},\n",
              " '1030': {'category': 'beauty',\n",
              "  'name': 'hair serum',\n",
              "  'price': 450,\n",
              "  'quantity': 29,\n",
              "  'weight': 145},\n",
              " '1031': {'category': 'beauty',\n",
              "  'name': 'face mask',\n",
              "  'price': 200,\n",
              "  'quantity': 50,\n",
              "  'weight': 12},\n",
              " '1032': {'category': 'beauty',\n",
              "  'name': 'mascara',\n",
              "  'price': 400,\n",
              "  'quantity': 30,\n",
              "  'weight': 13}}"
            ]
          },
          "metadata": {},
          "execution_count": 14
        }
      ]
    },
    {
      "cell_type": "code",
      "metadata": {
        "id": "lug6ALtbaIIQ"
      },
      "source": [
        ""
      ],
      "execution_count": null,
      "outputs": []
    }
  ]
}